{
 "cells": [
  {
   "cell_type": "markdown",
   "metadata": {},
   "source": [
    "# 데이터 설명\n",
    "1. Metadata (JSON file)\n",
    "- Age : 10s, 20s, 30s, over40s\n",
    "- Gender : Male / Female\n",
    "- Emotion : Happiness(행복), Surprise(놀람), Neutral(무표정),Disgust(혐오), Anger(분노), Fear(두려움), Sadness(슬픔)"
   ]
  },
  {
   "cell_type": "markdown",
   "metadata": {},
   "source": [
    "# 데이터 분할\n",
    "- Train : validation : test = 6 : 2 : 2"
   ]
  },
  {
   "cell_type": "code",
   "execution_count": 2,
   "metadata": {},
   "outputs": [
    {
     "ename": "UnicodeDecodeError",
     "evalue": "'utf-8' codec can't decode byte 0xb0 in position 37: invalid start byte",
     "output_type": "error",
     "traceback": [
      "\u001b[0;31m---------------------------------------------------------------------------\u001b[0m",
      "\u001b[0;31mUnicodeDecodeError\u001b[0m                        Traceback (most recent call last)",
      "Cell \u001b[0;32mIn[2], line 36\u001b[0m\n\u001b[1;32m     34\u001b[0m \u001b[38;5;28;01mfor\u001b[39;00m json_file \u001b[38;5;129;01min\u001b[39;00m json_file_list:\n\u001b[1;32m     35\u001b[0m     \u001b[38;5;28;01mwith\u001b[39;00m \u001b[38;5;28mopen\u001b[39m(json_file, \u001b[38;5;124m'\u001b[39m\u001b[38;5;124mr\u001b[39m\u001b[38;5;124m'\u001b[39m) \u001b[38;5;28;01mas\u001b[39;00m f:\n\u001b[0;32m---> 36\u001b[0m         metadata\u001b[38;5;241m.\u001b[39mappend(\u001b[43mjson\u001b[49m\u001b[38;5;241;43m.\u001b[39;49m\u001b[43mload\u001b[49m\u001b[43m(\u001b[49m\u001b[43mf\u001b[49m\u001b[43m)\u001b[49m)\n\u001b[1;32m     38\u001b[0m \u001b[38;5;66;03m# 클래스 리스트 (디렉토리별 클래스 이름)\u001b[39;00m\n\u001b[1;32m     39\u001b[0m classes_list \u001b[38;5;241m=\u001b[39m os\u001b[38;5;241m.\u001b[39mlistdir(original_image_dir)\n",
      "File \u001b[0;32m/opt/homebrew/Caskroom/miniconda/base/envs/TABA_Project/lib/python3.11/json/__init__.py:293\u001b[0m, in \u001b[0;36mload\u001b[0;34m(fp, cls, object_hook, parse_float, parse_int, parse_constant, object_pairs_hook, **kw)\u001b[0m\n\u001b[1;32m    274\u001b[0m \u001b[38;5;28;01mdef\u001b[39;00m \u001b[38;5;21mload\u001b[39m(fp, \u001b[38;5;241m*\u001b[39m, \u001b[38;5;28mcls\u001b[39m\u001b[38;5;241m=\u001b[39m\u001b[38;5;28;01mNone\u001b[39;00m, object_hook\u001b[38;5;241m=\u001b[39m\u001b[38;5;28;01mNone\u001b[39;00m, parse_float\u001b[38;5;241m=\u001b[39m\u001b[38;5;28;01mNone\u001b[39;00m,\n\u001b[1;32m    275\u001b[0m         parse_int\u001b[38;5;241m=\u001b[39m\u001b[38;5;28;01mNone\u001b[39;00m, parse_constant\u001b[38;5;241m=\u001b[39m\u001b[38;5;28;01mNone\u001b[39;00m, object_pairs_hook\u001b[38;5;241m=\u001b[39m\u001b[38;5;28;01mNone\u001b[39;00m, \u001b[38;5;241m*\u001b[39m\u001b[38;5;241m*\u001b[39mkw):\n\u001b[1;32m    276\u001b[0m \u001b[38;5;250m    \u001b[39m\u001b[38;5;124;03m\"\"\"Deserialize ``fp`` (a ``.read()``-supporting file-like object containing\u001b[39;00m\n\u001b[1;32m    277\u001b[0m \u001b[38;5;124;03m    a JSON document) to a Python object.\u001b[39;00m\n\u001b[1;32m    278\u001b[0m \n\u001b[0;32m   (...)\u001b[0m\n\u001b[1;32m    291\u001b[0m \u001b[38;5;124;03m    kwarg; otherwise ``JSONDecoder`` is used.\u001b[39;00m\n\u001b[1;32m    292\u001b[0m \u001b[38;5;124;03m    \"\"\"\u001b[39;00m\n\u001b[0;32m--> 293\u001b[0m     \u001b[38;5;28;01mreturn\u001b[39;00m loads(\u001b[43mfp\u001b[49m\u001b[38;5;241;43m.\u001b[39;49m\u001b[43mread\u001b[49m\u001b[43m(\u001b[49m\u001b[43m)\u001b[49m,\n\u001b[1;32m    294\u001b[0m         \u001b[38;5;28mcls\u001b[39m\u001b[38;5;241m=\u001b[39m\u001b[38;5;28mcls\u001b[39m, object_hook\u001b[38;5;241m=\u001b[39mobject_hook,\n\u001b[1;32m    295\u001b[0m         parse_float\u001b[38;5;241m=\u001b[39mparse_float, parse_int\u001b[38;5;241m=\u001b[39mparse_int,\n\u001b[1;32m    296\u001b[0m         parse_constant\u001b[38;5;241m=\u001b[39mparse_constant, object_pairs_hook\u001b[38;5;241m=\u001b[39mobject_pairs_hook, \u001b[38;5;241m*\u001b[39m\u001b[38;5;241m*\u001b[39mkw)\n",
      "File \u001b[0;32m<frozen codecs>:322\u001b[0m, in \u001b[0;36mdecode\u001b[0;34m(self, input, final)\u001b[0m\n",
      "\u001b[0;31mUnicodeDecodeError\u001b[0m: 'utf-8' codec can't decode byte 0xb0 in position 37: invalid start byte"
     ]
    }
   ],
   "source": [
    "import os\n",
    "import shutil\n",
    "import json\n",
    "import math\n",
    "\n",
    "# 이미지 원본이 있는 디렉토리\n",
    "original_image_dir = '/Volumes/Chan\\'s SSD'\n",
    "metadata_dir = '/Volumes/Chan\\'s SSD/TL_A'\n",
    "\n",
    "# 저장할 기본 디렉토리\n",
    "base_dir = '/Volumes/Chan\\'s SSD/splitted'\n",
    "os.makedirs(base_dir, exist_ok=True)\n",
    "\n",
    "# 훈련, 검증, 테스트 디렉토리 생성\n",
    "train_dir = os.path.join(base_dir, 'train')\n",
    "os.makedirs(train_dir, exist_ok=True)\n",
    "validation_dir = os.path.join(base_dir, 'val')\n",
    "os.makedirs(validation_dir, exist_ok=True)\n",
    "test_dir = os.path.join(base_dir, 'test')\n",
    "os.makedirs(test_dir, exist_ok=True)\n",
    "\n",
    "# batch1 ~ batch12 폴더 리스트\n",
    "batch_folders = [f\"batch{i}\" for i in range(1, 13)]\n",
    "\n",
    "# 메타데이터 JSON 파일 경로\n",
    "json_file_dir = os.listdir(metadata_dir)\n",
    "\n",
    "# JSON 파일 리스트 생성\n",
    "json_file_list = [os.path.join(metadata_dir, file) for file in json_file_dir if file.endswith('.json')]\n",
    "\n",
    "metadata = []\n",
    "\n",
    "# json_file_list에 있는 JSON 파일들을 읽어서 metadata 리스트에 저장\n",
    "for json_file in json_file_list:\n",
    "    with open(json_file, 'r') as f:\n",
    "        metadata.append(json.load(f))\n",
    "\n",
    "# 클래스 리스트 (디렉토리별 클래스 이름)\n",
    "classes_list = os.listdir(original_image_dir)\n",
    "\n",
    "# 각 클래스에 대해 훈련, 검증, 테스트 세트로 이미지 분할\n",
    "for clss in classes_list:\n",
    "    os.makedirs(os.path.join(train_dir, clss), exist_ok=True)\n",
    "    os.makedirs(os.path.join(validation_dir, clss), exist_ok=True)\n",
    "    os.makedirs(os.path.join(test_dir, clss), exist_ok=True)\n",
    "\n",
    "    all_fnames = []\n",
    "\n",
    "    # batch1 ~ batch12에서 클래스별 이미지 파일 읽기\n",
    "    for batch in batch_folders:\n",
    "        batch_path = os.path.join(original_image_dir, batch, clss)\n",
    "        if os.path.exists(batch_path):\n",
    "            fnames = os.listdir(batch_path)\n",
    "            all_fnames.extend(fnames)\n",
    "\n",
    "    # 데이터셋 분할 비율 설정\n",
    "    train_size = math.floor(len(all_fnames) * 0.6)\n",
    "    validation_size = math.floor(len(all_fnames) * 0.2)\n",
    "    test_size = len(all_fnames) - train_size - validation_size\n",
    "\n",
    "    # 이미지 분할\n",
    "    train_fnames = all_fnames[:train_size]\n",
    "    validation_fnames = all_fnames[train_size:train_size + validation_size]\n",
    "    test_fnames = all_fnames[train_size + validation_size:]\n",
    "\n",
    "    # 훈련 이미지 복사\n",
    "    for fname in train_fnames:\n",
    "        src = os.path.join(original_image_dir, batch, clss, fname)\n",
    "        dst = os.path.join(train_dir, clss, fname)\n",
    "        shutil.copyfile(src, dst)\n",
    "\n",
    "    # 검증 이미지 복사\n",
    "    for fname in validation_fnames:\n",
    "        src = os.path.join(original_image_dir, batch, clss, fname)\n",
    "        dst = os.path.join(validation_dir, clss, fname)\n",
    "        shutil.copyfile(src, dst)\n",
    "\n",
    "    # 테스트 이미지 복사\n",
    "    for fname in test_fnames:\n",
    "        src = os.path.join(original_image_dir, batch, clss, fname)\n",
    "        dst = os.path.join(test_dir, clss, fname)\n",
    "        shutil.copyfile(src, dst)\n",
    "\n",
    "    print(f'{clss} - Train: {len(train_fnames)}, Validation: {len(validation_fnames)}, Test: {len(test_fnames)}')"
   ]
  },
  {
   "cell_type": "code",
   "execution_count": null,
   "metadata": {},
   "outputs": [],
   "source": []
  }
 ],
 "metadata": {
  "kernelspec": {
   "display_name": "TABA_Project",
   "language": "python",
   "name": "python3"
  },
  "language_info": {
   "codemirror_mode": {
    "name": "ipython",
    "version": 3
   },
   "file_extension": ".py",
   "mimetype": "text/x-python",
   "name": "python",
   "nbconvert_exporter": "python",
   "pygments_lexer": "ipython3",
   "version": "3.11.9"
  }
 },
 "nbformat": 4,
 "nbformat_minor": 2
}
